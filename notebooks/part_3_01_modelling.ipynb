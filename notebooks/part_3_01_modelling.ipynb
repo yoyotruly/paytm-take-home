{
 "cells": [
  {
   "cell_type": "code",
   "execution_count": 1,
   "id": "034547cb",
   "metadata": {},
   "outputs": [],
   "source": [
    "import os\n",
    "import sys\n",
    "import warnings\n",
    "\n",
    "import numpy as np\n",
    "import pandas as pd\n",
    "import mlflow\n",
    "import mlflow.sklearn\n",
    "\n",
    "from sklearn import set_config\n",
    "from sklearn.impute import SimpleImputer, KNNImputer\n",
    "from sklearn.preprocessing import StandardScaler, MinMaxScaler, OneHotEncoder\n",
    "from sklearn.compose import ColumnTransformer, make_column_selector\n",
    "from sklearn.pipeline import Pipeline\n",
    "from sklearn.model_selection import train_test_split\n",
    "from sklearn.metrics import roc_auc_score\n",
    "\n",
    "from feature_engine.selection import DropFeatures\n",
    "\n",
    "from xgboost import XGBClassifier\n",
    "\n",
    "from imblearn.pipeline import Pipeline as imbPipeline\n",
    "from imblearn.over_sampling import ADASYN, SMOTE\n",
    "\n",
    "from hyperopt import hp, tpe, fmin, STATUS_OK, Trials\n",
    "from hyperopt.pyll.base import scope\n",
    "\n",
    "import logging\n",
    "\n",
    "logging.basicConfig(level=logging.WARN)\n",
    "logger = logging.getLogger(__name__)"
   ]
  },
  {
   "cell_type": "code",
   "execution_count": 2,
   "id": "f2af5aa7",
   "metadata": {},
   "outputs": [],
   "source": [
    "# helper function\n",
    "def prep_train_val_test(df_train, df_val, df_test, target_col):\n",
    "    X_train = df_train.drop(target_col, axis=1)\n",
    "    y_train = df_train[target_col]\n",
    "\n",
    "    X_val = df_val.drop(target_col, axis=1)\n",
    "    y_val = df_val[target_col]\n",
    "\n",
    "    X_test = df_test.drop(target_col, axis=1)\n",
    "    y_test = df_test[target_col]\n",
    "    \n",
    "    return X_train, y_train, X_val, y_val, X_test, y_test"
   ]
  },
  {
   "cell_type": "markdown",
   "id": "17c84a3d",
   "metadata": {},
   "source": [
    "### Build preprocessing pipeline\n",
    "\n",
    "Build preprocessing steps based on findings from EDA."
   ]
  },
  {
   "cell_type": "code",
   "execution_count": 3,
   "id": "1950f85c",
   "metadata": {},
   "outputs": [],
   "source": [
    "simple_imputer = SimpleImputer(add_indicator=True)\n",
    "knn_imputer = KNNImputer(add_indicator=True)\n",
    "\n",
    "numerical_pipeline = Pipeline(steps=[\n",
    "    (\"imputer\", knn_imputer),\n",
    "    (\"scaler\", StandardScaler())\n",
    "])\n",
    "\n",
    "numerical_transformers = [\n",
    "    (\"numerical\", numerical_pipeline, make_column_selector(dtype_include=np.number))\n",
    "]\n",
    "\n",
    "encoder = OneHotEncoder(min_frequency=0.05, sparse=False, handle_unknown=\"infrequent_if_exist\")\n",
    "categorical_transformers = [\n",
    "    (\"categorical\", encoder, make_column_selector(dtype_include=object)),\n",
    "]\n",
    "\n",
    "transformers = numerical_transformers + categorical_transformers\n",
    "preprocessor = ColumnTransformer(transformers, remainder=\"passthrough\", sparse_threshold=0)"
   ]
  },
  {
   "cell_type": "markdown",
   "id": "100d6b14",
   "metadata": {},
   "source": [
    "### Define the objective and optimize function\n",
    "The `objective` function is used to find the optimal hyperparameters. The `optimize` function will then use this\n",
    "function's return value to search the space to minimize the loss.\n",
    "\n",
    "From baseline experiments with `Decision Tree`, `Random Forest`, `LightGBM`, and `XGBoost`, `XGBoost` performs the best. Therefore, choosing `XGBoost` to further tune hyperparameters."
   ]
  },
  {
   "cell_type": "code",
   "execution_count": 4,
   "id": "1277c506",
   "metadata": {},
   "outputs": [],
   "source": [
    "def objective(params):\n",
    "    with mlflow.start_run(run_name=\"xgboost\") as mlflow_run:\n",
    "        model = imbPipeline([\n",
    "            (\"drop_column\", DropFeatures(['Vicuna'])),\n",
    "            (\"preprocessor\", preprocessor),\n",
    "            (\"resampler\", None),\n",
    "            (\"classifier\", XGBClassifier(n_jobs=4, verbosity=0))\n",
    "        ])\n",
    "\n",
    "        model.set_params(**params)\n",
    "\n",
    "        mlflow.sklearn.autolog(\n",
    "            log_input_examples=True,\n",
    "            silent=True\n",
    "        )\n",
    "\n",
    "        model.fit(X_train, y_train)\n",
    "\n",
    "        train_metrics = mlflow.sklearn.eval_and_log_metrics(model, X_train, y_train, prefix=\"train_\", pos_label=1)\n",
    "        val_metrics = mlflow.sklearn.eval_and_log_metrics(model, X_val, y_val, prefix=\"val_\", pos_label=1)\n",
    "        test_metrics = mlflow.sklearn.eval_and_log_metrics(model, X_test, y_test, prefix=\"test_\", pos_label=1)\n",
    "\n",
    "        loss = val_metrics[\"val_roc_auc_score\"]\n",
    "        \n",
    "        train_metrics = {k.replace(\"train_\", \"\"): v for k, v in train_metrics.items()}\n",
    "        val_metrics = {k.replace(\"val_\", \"\"): v for k, v in val_metrics.items()}\n",
    "        test_metrics = {k.replace(\"test_\", \"\"): v for k, v in test_metrics.items()}\n",
    "\n",
    "        return {\n",
    "            \"loss\": loss,\n",
    "            \"status\": STATUS_OK,\n",
    "            \"train_metrics\": train_metrics,\n",
    "            \"val_metrics\": val_metrics,\n",
    "            \"test_metrics\": test_metrics,\n",
    "            \"model\": model,\n",
    "            \"run\": mlflow_run\n",
    "        }\n",
    "\n",
    "\n",
    "def optimize(trials, space, max_evals=20):\n",
    "    fmin(\n",
    "        objective,\n",
    "        space=space,\n",
    "        algo=tpe.suggest,\n",
    "        max_evals=max_evals,\n",
    "        trials=trials\n",
    "    )\n",
    "    \n",
    "    return trials.best_trial[\"result\"]"
   ]
  },
  {
   "cell_type": "markdown",
   "id": "d9e24ef2",
   "metadata": {},
   "source": [
    "### Configure hyperparameter search space\n",
    "Hard coded best hyperparameters for quick reproducible result, but left the original hyperopt search space in comments."
   ]
  },
  {
   "cell_type": "code",
   "execution_count": 5,
   "id": "a9655378",
   "metadata": {},
   "outputs": [],
   "source": [
    "space = {\n",
    "    \"preprocessor__numerical__imputer\": simple_imputer, # hp.choice(\"imputer\", [simple_imputer, knn_imputer]),\n",
    "    \"preprocessor__numerical__scaler\": StandardScaler(), # hp.choice(\"scaler\", [StandardScaler(), MinMaxScaler()]),\n",
    "    \"resampler\": None, # hp.choice(\"oversampler\", [SMOTE(), ADASYN(), None]),\n",
    "    \"classifier__n_estimaters\": 1388, # hp.randint(\"n_estimators\", 500, 2000),\n",
    "    \"classifier__max_depth\": 11, # scope.int(hp.quniform(\"max_depth\", 5, 12, 1)),\n",
    "    \"classifier__min_child_weight\": 2, # scope.int(hp.quniform(\"min_child_weight\", 1, 10, 1)),\n",
    "    \"classifier__colsample_bytree\": 0.36326869776836995, # hp.uniform(\"colsample_bytree\", 0.2, 0.4),\n",
    "    \"classifier__subsample\": 0.5715025025179864, # hp.uniform(\"subsample\", 0.5, 0.9),\n",
    "    \"classifier__learning_rate\": 0.04304893649824187 # hp.loguniform('learning_rate', np.log(0.01), np.log(0.2))\n",
    "}"
   ]
  },
  {
   "cell_type": "markdown",
   "id": "b636c71a",
   "metadata": {},
   "source": [
    "### Run trials and output best performing model result"
   ]
  },
  {
   "cell_type": "code",
   "execution_count": 6,
   "id": "5f429609",
   "metadata": {},
   "outputs": [
    {
     "name": "stdout",
     "output_type": "stream",
     "text": [
      "100%|██████████████████████████████████████████████████████████████████████| 1/1 [00:03<00:00,  3.97s/trial, best loss: 0.968448684075078]\n"
     ]
    }
   ],
   "source": [
    "if __name__ == \"__main__\":\n",
    "    warnings.filterwarnings(\"ignore\")\n",
    "    np.random.seed(631784649)\n",
    "\n",
    "    try:\n",
    "        df = pd.read_csv(\"../data/raw/train.csv\")\n",
    "        df_test = pd.read_csv(\"../data/raw/test.csv\")\n",
    "    except Exception as e:\n",
    "        logger.exception(f\"Error reading raw dataset. Error: {e}\")\n",
    "    \n",
    "\n",
    "    # split original train data into training and validation sets\n",
    "    df_train, df_val = train_test_split(df, test_size=0.2)\n",
    "\n",
    "    X_train, y_train, X_val, y_val, X_test, y_test = prep_train_val_test(df_train, df_val, df_test, \"target\")\n",
    "    \n",
    "    trials = Trials()\n",
    "    best_result = optimize(trials, space, max_evals=1)"
   ]
  },
  {
   "cell_type": "code",
   "execution_count": 7,
   "id": "d3f58361",
   "metadata": {},
   "outputs": [
    {
     "data": {
      "text/html": [
       "<div>\n",
       "<style scoped>\n",
       "    .dataframe tbody tr th:only-of-type {\n",
       "        vertical-align: middle;\n",
       "    }\n",
       "\n",
       "    .dataframe tbody tr th {\n",
       "        vertical-align: top;\n",
       "    }\n",
       "\n",
       "    .dataframe thead th {\n",
       "        text-align: right;\n",
       "    }\n",
       "</style>\n",
       "<table border=\"1\" class=\"dataframe\">\n",
       "  <thead>\n",
       "    <tr style=\"text-align: right;\">\n",
       "      <th></th>\n",
       "      <th>train</th>\n",
       "      <th>validation</th>\n",
       "      <th>test</th>\n",
       "    </tr>\n",
       "  </thead>\n",
       "  <tbody>\n",
       "    <tr>\n",
       "      <th>roc_auc_score</th>\n",
       "      <td>0.998439</td>\n",
       "      <td>0.968449</td>\n",
       "      <td>0.906685</td>\n",
       "    </tr>\n",
       "  </tbody>\n",
       "</table>\n",
       "</div>"
      ],
      "text/plain": [
       "                  train  validation      test\n",
       "roc_auc_score  0.998439    0.968449  0.906685"
      ]
     },
     "execution_count": 7,
     "metadata": {},
     "output_type": "execute_result"
    }
   ],
   "source": [
    "metric = \"roc_auc_score\"\n",
    "\n",
    "pd.DataFrame(\n",
    "    {\n",
    "        \"train\": best_result[\"train_metrics\"][metric],\n",
    "        \"validation\": best_result[\"val_metrics\"][metric],\n",
    "        \"test\": best_result[\"test_metrics\"][metric]\n",
    "    },\n",
    "    index=[metric]\n",
    ")"
   ]
  },
  {
   "cell_type": "code",
   "execution_count": 8,
   "id": "b39f613e",
   "metadata": {},
   "outputs": [],
   "source": [
    "# comment out to properly display on GitHub, uncomment to show interactive model graph\n",
    "# set_config(display=\"diagram\")\n",
    "# best_result[\"model\"]"
   ]
  },
  {
   "cell_type": "markdown",
   "id": "fd4ddafb",
   "metadata": {},
   "source": [
    "Best model pipeline\n",
    "\n",
    "<img src=\"../docs/images/best_model.png\" alt=\"best model\" width=\"500\"/>"
   ]
  }
 ],
 "metadata": {
  "kernelspec": {
   "display_name": "Python 3 (ipykernel)",
   "language": "python",
   "name": "python3"
  },
  "language_info": {
   "codemirror_mode": {
    "name": "ipython",
    "version": 3
   },
   "file_extension": ".py",
   "mimetype": "text/x-python",
   "name": "python",
   "nbconvert_exporter": "python",
   "pygments_lexer": "ipython3",
   "version": "3.10.8"
  },
  "vscode": {
   "interpreter": {
    "hash": "b0fa6594d8f4cbf19f97940f81e996739fb7646882a419484c72d19e05852a7e"
   }
  }
 },
 "nbformat": 4,
 "nbformat_minor": 5
}
