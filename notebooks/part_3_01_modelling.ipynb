{
 "cells": [
  {
   "cell_type": "code",
   "execution_count": 289,
   "id": "034547cb",
   "metadata": {},
   "outputs": [],
   "source": [
    "import os\n",
    "import sys\n",
    "import warnings\n",
    "\n",
    "import numpy as np\n",
    "import pandas as pd\n",
    "import mlflow\n",
    "import mlflow.sklearn\n",
    "\n",
    "from sklearn import set_config\n",
    "from sklearn.impute import SimpleImputer, KNNImputer\n",
    "from sklearn.preprocessing import StandardScaler, MinMaxScaler, OneHotEncoder\n",
    "from sklearn.compose import ColumnTransformer, make_column_selector\n",
    "from sklearn.pipeline import Pipeline, make_pipeline\n",
    "from sklearn.model_selection import train_test_split\n",
    "from sklearn.ensemble import RandomForestClassifier, VotingClassifier\n",
    "from sklearn.metrics import roc_auc_score\n",
    "\n",
    "from feature_engine.selection import DropFeatures\n",
    "\n",
    "from xgboost import XGBClassifier\n",
    "\n",
    "from imblearn.pipeline import Pipeline as imbPipeline\n",
    "from imblearn.over_sampling import ADASYN, SMOTE\n",
    "\n",
    "from hyperopt import hp, tpe, fmin, STATUS_OK, Trials\n",
    "\n",
    "import logging\n",
    "\n",
    "logging.basicConfig(level=logging.WARN)\n",
    "logger = logging.getLogger(__name__)"
   ]
  },
  {
   "cell_type": "code",
   "execution_count": 290,
   "id": "f2af5aa7",
   "metadata": {},
   "outputs": [],
   "source": [
    "# helper function\n",
    "def prep_train_val_test(df_train, df_val, df_test, target_col):\n",
    "    X_train = df_train.drop(target_col, axis=1)\n",
    "    y_train = df_train[target_col]\n",
    "\n",
    "    X_val = df_val.drop(target_col, axis=1)\n",
    "    y_val = df_val[target_col]\n",
    "\n",
    "    X_test = df_test.drop(target_col, axis=1)\n",
    "    y_test = df_test[target_col]\n",
    "    \n",
    "    return X_train, y_train, X_val, y_val, X_test, y_test"
   ]
  },
  {
   "cell_type": "markdown",
   "id": "17c84a3d",
   "metadata": {},
   "source": [
    "### Build preprocessing pipeline\n",
    "\n",
    "Build preprocessing steps based on findings from EDA."
   ]
  },
  {
   "cell_type": "code",
   "execution_count": 299,
   "id": "1950f85c",
   "metadata": {},
   "outputs": [],
   "source": [
    "simple_imputer = SimpleImputer(add_indicator=True)\n",
    "knn_imputer = KNNImputer(add_indicator=True)\n",
    "\n",
    "numerical_pipeline = Pipeline(steps=[\n",
    "    (\"imputer\", knn_imputer),\n",
    "    (\"scaler\", StandardScaler())\n",
    "])\n",
    "\n",
    "numerical_transformers = [\n",
    "    (\"numerical\", numerical_pipeline, make_column_selector(dtype_include=np.number))\n",
    "]\n",
    "\n",
    "encoder = OneHotEncoder(min_frequency=0.05, sparse=False, handle_unknown=\"infrequent_if_exist\")\n",
    "categorical_transformers = [\n",
    "    (\"categorical\", encoder, make_column_selector(dtype_include=object)),\n",
    "]\n",
    "\n",
    "transformers = numerical_transformers + categorical_transformers\n",
    "preprocessor = ColumnTransformer(transformers, remainder=\"passthrough\", sparse_threshold=0)"
   ]
  },
  {
   "cell_type": "markdown",
   "id": "100d6b14",
   "metadata": {},
   "source": [
    "### Define the objective and optimize function\n",
    "The `objective` function is used to find the optimal hyperparameters. The `optimize` function will then use this\n",
    "function's return value to search the space to minimize the loss.\n",
    "\n",
    "From baseline experiments with `Decision Tree`, `Random Forest`, `LightGBM`, and `XGBoost`, `XGBoost` performs the best. Therefore, choosing `XGBoost` to further tune hyperparameters."
   ]
  },
  {
   "cell_type": "code",
   "execution_count": 292,
   "id": "1277c506",
   "metadata": {},
   "outputs": [],
   "source": [
    "def objective(params):\n",
    "    with mlflow.start_run(run_name=\"xgboost\") as mlflow_run:\n",
    "        model = imbPipeline([\n",
    "            (\"drop_column\", DropFeatures(['Vicuna'])),\n",
    "            (\"preprocessor\", preprocessor),\n",
    "            (\"resampler\", None),\n",
    "            (\"classifier\", XGBClassifier(n_jobs=4, verbosity=0))\n",
    "        ])\n",
    "\n",
    "        model.set_params(**params)\n",
    "\n",
    "        mlflow.sklearn.autolog(\n",
    "            log_input_examples=True,\n",
    "            silent=True\n",
    "        )\n",
    "\n",
    "        model.fit(X_train, y_train)\n",
    "\n",
    "        train_metrics = mlflow.sklearn.eval_and_log_metrics(model, X_train, y_train, prefix=\"train_\", pos_label=1)\n",
    "        val_metrics = mlflow.sklearn.eval_and_log_metrics(model, X_val, y_val, prefix=\"val_\", pos_label=1)\n",
    "        test_metrics = mlflow.sklearn.eval_and_log_metrics(model, X_test, y_test, prefix=\"test_\", pos_label=1)\n",
    "\n",
    "        loss = val_metrics[\"val_roc_auc_score\"]\n",
    "\n",
    "        val_metrics = {k.replace(\"val_\", \"\"): v for k, v in val_metrics.items()}\n",
    "        test_metrics = {k.replace(\"test_\", \"\"): v for k, v in test_metrics.items()}\n",
    "\n",
    "        return {\n",
    "          \"loss\": loss,\n",
    "          \"status\": STATUS_OK,\n",
    "          \"val_metrics\": val_metrics,\n",
    "          \"test_metrics\": test_metrics,\n",
    "          \"model\": model,\n",
    "          \"run\": mlflow_run\n",
    "        }\n",
    "\n",
    "\n",
    "def optimize(trials, space, max_evals=20):\n",
    "    fmin(\n",
    "        objective,\n",
    "        space=space,\n",
    "        algo=tpe.suggest,\n",
    "        max_evals=max_evals,\n",
    "        trials=trials\n",
    "    )\n",
    "    \n",
    "    return trials.best_trial[\"result\"]"
   ]
  },
  {
   "cell_type": "markdown",
   "id": "d9e24ef2",
   "metadata": {},
   "source": [
    "### Configure hyperparameter search space"
   ]
  },
  {
   "cell_type": "code",
   "execution_count": 293,
   "id": "8a6b0b99",
   "metadata": {},
   "outputs": [],
   "source": [
    "space = {\n",
    "    \"preprocessor__numerical__imputer\": hp.choice(\"imputer\", [simple_imputer, knn_imputer]),\n",
    "    \"preprocessor__numerical__scaler\": hp.choice(\"scaler\", [StandardScaler(), MinMaxScaler()]),\n",
    "    \"preprocessor__categorical__min_frequency\": hp.choice(\"min_freq\", [0.1, 0.05, None]),\n",
    "    \"resampler\": hp.choice(\"oversampler\", [SMOTE(), ADASYN(), None]),\n",
    "    \"classifier__n_estimaters\": hp.quniform(536),\n",
    "    \"classifier__max_depth\": hp.quniform(3, 10),\n",
    "    \"classifier__min_child_weight\": 10,\n",
    "    \"classifier__eta\": hp.uniform(0, 1),\n",
    "    \"classifier__colsample_bytree\": 0.21620329526101392,\n",
    "    \"classifier__learning_rate\": 0.050065586051749114,\n",
    "    \"classifier__subsample\": 0.595439112017179\n",
    "}"
   ]
  },
  {
   "cell_type": "markdown",
   "id": "b636c71a",
   "metadata": {},
   "source": [
    "### Run trials and output best performing model result"
   ]
  },
  {
   "cell_type": "code",
   "execution_count": 294,
   "id": "5f429609",
   "metadata": {},
   "outputs": [
    {
     "name": "stdout",
     "output_type": "stream",
     "text": [
      "100%|█████████████████████████████████████████████████| 100/100 [11:38<00:00,  6.98s/trial, best loss: 0.9536970662418692]\n"
     ]
    }
   ],
   "source": [
    "if __name__ == \"__main__\":\n",
    "    warnings.filterwarnings(\"ignore\")\n",
    "    np.random.seed(42)\n",
    "\n",
    "    try:\n",
    "        df = pd.read_csv(\"../data/raw/train.csv\")\n",
    "        df_test = pd.read_csv(\"../data/raw/test.csv\")\n",
    "    except Exception as e:\n",
    "        logger.exception(f\"Error reading raw dataset. Error: {e}\")\n",
    "    \n",
    "\n",
    "    # split original train data into training and validation sets\n",
    "    df_train, df_val = train_test_split(df, test_size=0.2)\n",
    "\n",
    "    X_train, y_train, X_val, y_val, X_test, y_test = prep_train_val_test(df_train, df_val, df_test, \"target\")\n",
    "    \n",
    "    trials = Trials()\n",
    "    best_result = optimize(trials, space, max_evals=100)"
   ]
  },
  {
   "cell_type": "code",
   "execution_count": 295,
   "id": "d3f58361",
   "metadata": {},
   "outputs": [
    {
     "data": {
      "text/html": [
       "<div>\n",
       "<style scoped>\n",
       "    .dataframe tbody tr th:only-of-type {\n",
       "        vertical-align: middle;\n",
       "    }\n",
       "\n",
       "    .dataframe tbody tr th {\n",
       "        vertical-align: top;\n",
       "    }\n",
       "\n",
       "    .dataframe thead th {\n",
       "        text-align: right;\n",
       "    }\n",
       "</style>\n",
       "<table border=\"1\" class=\"dataframe\">\n",
       "  <thead>\n",
       "    <tr style=\"text-align: right;\">\n",
       "      <th></th>\n",
       "      <th>precision_score</th>\n",
       "      <th>recall_score</th>\n",
       "      <th>f1_score</th>\n",
       "      <th>accuracy_score</th>\n",
       "      <th>log_loss</th>\n",
       "      <th>roc_auc_score</th>\n",
       "      <th>score</th>\n",
       "    </tr>\n",
       "  </thead>\n",
       "  <tbody>\n",
       "    <tr>\n",
       "      <th>validation</th>\n",
       "      <td>0.806897</td>\n",
       "      <td>0.629032</td>\n",
       "      <td>0.706949</td>\n",
       "      <td>0.930764</td>\n",
       "      <td>0.220476</td>\n",
       "      <td>0.953697</td>\n",
       "      <td>0.930764</td>\n",
       "    </tr>\n",
       "    <tr>\n",
       "      <th>test</th>\n",
       "      <td>0.930070</td>\n",
       "      <td>0.272541</td>\n",
       "      <td>0.421553</td>\n",
       "      <td>0.645975</td>\n",
       "      <td>0.620904</td>\n",
       "      <td>0.874041</td>\n",
       "      <td>0.645975</td>\n",
       "    </tr>\n",
       "  </tbody>\n",
       "</table>\n",
       "</div>"
      ],
      "text/plain": [
       "            precision_score  recall_score  f1_score  accuracy_score  log_loss  \\\n",
       "validation         0.806897      0.629032  0.706949        0.930764  0.220476   \n",
       "test               0.930070      0.272541  0.421553        0.645975  0.620904   \n",
       "\n",
       "            roc_auc_score     score  \n",
       "validation       0.953697  0.930764  \n",
       "test             0.874041  0.645975  "
      ]
     },
     "execution_count": 295,
     "metadata": {},
     "output_type": "execute_result"
    }
   ],
   "source": [
    "pd.DataFrame(\n",
    "    [best_result[\"val_metrics\"], best_result[\"test_metrics\"]],\n",
    "    index=[\"validation\", \"test\"]\n",
    ")"
   ]
  },
  {
   "cell_type": "code",
   "execution_count": 298,
   "id": "b39f613e",
   "metadata": {},
   "outputs": [
    {
     "data": {
      "text/html": [
       "<style>#sk-container-id-1282 {color: black;background-color: white;}#sk-container-id-1282 pre{padding: 0;}#sk-container-id-1282 div.sk-toggleable {background-color: white;}#sk-container-id-1282 label.sk-toggleable__label {cursor: pointer;display: block;width: 100%;margin-bottom: 0;padding: 0.3em;box-sizing: border-box;text-align: center;}#sk-container-id-1282 label.sk-toggleable__label-arrow:before {content: \"▸\";float: left;margin-right: 0.25em;color: #696969;}#sk-container-id-1282 label.sk-toggleable__label-arrow:hover:before {color: black;}#sk-container-id-1282 div.sk-estimator:hover label.sk-toggleable__label-arrow:before {color: black;}#sk-container-id-1282 div.sk-toggleable__content {max-height: 0;max-width: 0;overflow: hidden;text-align: left;background-color: #f0f8ff;}#sk-container-id-1282 div.sk-toggleable__content pre {margin: 0.2em;color: black;border-radius: 0.25em;background-color: #f0f8ff;}#sk-container-id-1282 input.sk-toggleable__control:checked~div.sk-toggleable__content {max-height: 200px;max-width: 100%;overflow: auto;}#sk-container-id-1282 input.sk-toggleable__control:checked~label.sk-toggleable__label-arrow:before {content: \"▾\";}#sk-container-id-1282 div.sk-estimator input.sk-toggleable__control:checked~label.sk-toggleable__label {background-color: #d4ebff;}#sk-container-id-1282 div.sk-label input.sk-toggleable__control:checked~label.sk-toggleable__label {background-color: #d4ebff;}#sk-container-id-1282 input.sk-hidden--visually {border: 0;clip: rect(1px 1px 1px 1px);clip: rect(1px, 1px, 1px, 1px);height: 1px;margin: -1px;overflow: hidden;padding: 0;position: absolute;width: 1px;}#sk-container-id-1282 div.sk-estimator {font-family: monospace;background-color: #f0f8ff;border: 1px dotted black;border-radius: 0.25em;box-sizing: border-box;margin-bottom: 0.5em;}#sk-container-id-1282 div.sk-estimator:hover {background-color: #d4ebff;}#sk-container-id-1282 div.sk-parallel-item::after {content: \"\";width: 100%;border-bottom: 1px solid gray;flex-grow: 1;}#sk-container-id-1282 div.sk-label:hover label.sk-toggleable__label {background-color: #d4ebff;}#sk-container-id-1282 div.sk-serial::before {content: \"\";position: absolute;border-left: 1px solid gray;box-sizing: border-box;top: 0;bottom: 0;left: 50%;z-index: 0;}#sk-container-id-1282 div.sk-serial {display: flex;flex-direction: column;align-items: center;background-color: white;padding-right: 0.2em;padding-left: 0.2em;position: relative;}#sk-container-id-1282 div.sk-item {position: relative;z-index: 1;}#sk-container-id-1282 div.sk-parallel {display: flex;align-items: stretch;justify-content: center;background-color: white;position: relative;}#sk-container-id-1282 div.sk-item::before, #sk-container-id-1282 div.sk-parallel-item::before {content: \"\";position: absolute;border-left: 1px solid gray;box-sizing: border-box;top: 0;bottom: 0;left: 50%;z-index: -1;}#sk-container-id-1282 div.sk-parallel-item {display: flex;flex-direction: column;z-index: 1;position: relative;background-color: white;}#sk-container-id-1282 div.sk-parallel-item:first-child::after {align-self: flex-end;width: 50%;}#sk-container-id-1282 div.sk-parallel-item:last-child::after {align-self: flex-start;width: 50%;}#sk-container-id-1282 div.sk-parallel-item:only-child::after {width: 0;}#sk-container-id-1282 div.sk-dashed-wrapped {border: 1px dashed gray;margin: 0 0.4em 0.5em 0.4em;box-sizing: border-box;padding-bottom: 0.4em;background-color: white;}#sk-container-id-1282 div.sk-label label {font-family: monospace;font-weight: bold;display: inline-block;line-height: 1.2em;}#sk-container-id-1282 div.sk-label-container {text-align: center;}#sk-container-id-1282 div.sk-container {/* jupyter's `normalize.less` sets `[hidden] { display: none; }` but bootstrap.min.css set `[hidden] { display: none !important; }` so we also need the `!important` here to be able to override the default hidden behavior on the sphinx rendered scikit-learn.org. See: https://github.com/scikit-learn/scikit-learn/issues/21755 */display: inline-block !important;position: relative;}#sk-container-id-1282 div.sk-text-repr-fallback {display: none;}</style><div id=\"sk-container-id-1282\" class=\"sk-top-container\"><div class=\"sk-text-repr-fallback\"><pre>Pipeline(steps=[(&#x27;drop_column&#x27;, DropFeatures(features_to_drop=[&#x27;Vicuna&#x27;])),\n",
       "                (&#x27;preprocessor&#x27;,\n",
       "                 ColumnTransformer(remainder=&#x27;passthrough&#x27;, sparse_threshold=0,\n",
       "                                   transformers=[(&#x27;numerical&#x27;,\n",
       "                                                  Pipeline(steps=[(&#x27;imputer&#x27;,\n",
       "                                                                   SimpleImputer(add_indicator=True)),\n",
       "                                                                  (&#x27;scaler&#x27;,\n",
       "                                                                   StandardScaler())]),\n",
       "                                                  &lt;sklearn.compose._column_transformer.make_column_selector object at 0x2c157f8b0&gt;),\n",
       "                                                 (...\n",
       "                               feature_types=None, gamma=0, gpu_id=-1,\n",
       "                               grow_policy=&#x27;depthwise&#x27;, importance_type=None,\n",
       "                               interaction_constraints=&#x27;&#x27;,\n",
       "                               learning_rate=0.050065586051749114, max_bin=256,\n",
       "                               max_cat_threshold=64, max_cat_to_onehot=4,\n",
       "                               max_delta_step=0, max_depth=10, max_leaves=0,\n",
       "                               min_child_weight=10, missing=nan,\n",
       "                               monotone_constraints=&#x27;()&#x27;, n_estimaters=536,\n",
       "                               n_estimators=100, n_jobs=4, num_parallel_tree=1,\n",
       "                               predictor=&#x27;auto&#x27;, ...))])</pre><b>In a Jupyter environment, please rerun this cell to show the HTML representation or trust the notebook. <br />On GitHub, the HTML representation is unable to render, please try loading this page with nbviewer.org.</b></div><div class=\"sk-container\" hidden><div class=\"sk-item sk-dashed-wrapped\"><div class=\"sk-label-container\"><div class=\"sk-label sk-toggleable\"><input class=\"sk-toggleable__control sk-hidden--visually\" id=\"sk-estimator-id-9759\" type=\"checkbox\" ><label for=\"sk-estimator-id-9759\" class=\"sk-toggleable__label sk-toggleable__label-arrow\">Pipeline</label><div class=\"sk-toggleable__content\"><pre>Pipeline(steps=[(&#x27;drop_column&#x27;, DropFeatures(features_to_drop=[&#x27;Vicuna&#x27;])),\n",
       "                (&#x27;preprocessor&#x27;,\n",
       "                 ColumnTransformer(remainder=&#x27;passthrough&#x27;, sparse_threshold=0,\n",
       "                                   transformers=[(&#x27;numerical&#x27;,\n",
       "                                                  Pipeline(steps=[(&#x27;imputer&#x27;,\n",
       "                                                                   SimpleImputer(add_indicator=True)),\n",
       "                                                                  (&#x27;scaler&#x27;,\n",
       "                                                                   StandardScaler())]),\n",
       "                                                  &lt;sklearn.compose._column_transformer.make_column_selector object at 0x2c157f8b0&gt;),\n",
       "                                                 (...\n",
       "                               feature_types=None, gamma=0, gpu_id=-1,\n",
       "                               grow_policy=&#x27;depthwise&#x27;, importance_type=None,\n",
       "                               interaction_constraints=&#x27;&#x27;,\n",
       "                               learning_rate=0.050065586051749114, max_bin=256,\n",
       "                               max_cat_threshold=64, max_cat_to_onehot=4,\n",
       "                               max_delta_step=0, max_depth=10, max_leaves=0,\n",
       "                               min_child_weight=10, missing=nan,\n",
       "                               monotone_constraints=&#x27;()&#x27;, n_estimaters=536,\n",
       "                               n_estimators=100, n_jobs=4, num_parallel_tree=1,\n",
       "                               predictor=&#x27;auto&#x27;, ...))])</pre></div></div></div><div class=\"sk-serial\"><div class=\"sk-item\"><div class=\"sk-estimator sk-toggleable\"><input class=\"sk-toggleable__control sk-hidden--visually\" id=\"sk-estimator-id-9760\" type=\"checkbox\" ><label for=\"sk-estimator-id-9760\" class=\"sk-toggleable__label sk-toggleable__label-arrow\">DropFeatures</label><div class=\"sk-toggleable__content\"><pre>DropFeatures(features_to_drop=[&#x27;Vicuna&#x27;])</pre></div></div></div><div class=\"sk-item sk-dashed-wrapped\"><div class=\"sk-label-container\"><div class=\"sk-label sk-toggleable\"><input class=\"sk-toggleable__control sk-hidden--visually\" id=\"sk-estimator-id-9761\" type=\"checkbox\" ><label for=\"sk-estimator-id-9761\" class=\"sk-toggleable__label sk-toggleable__label-arrow\">preprocessor: ColumnTransformer</label><div class=\"sk-toggleable__content\"><pre>ColumnTransformer(remainder=&#x27;passthrough&#x27;, sparse_threshold=0,\n",
       "                  transformers=[(&#x27;numerical&#x27;,\n",
       "                                 Pipeline(steps=[(&#x27;imputer&#x27;,\n",
       "                                                  SimpleImputer(add_indicator=True)),\n",
       "                                                 (&#x27;scaler&#x27;, StandardScaler())]),\n",
       "                                 &lt;sklearn.compose._column_transformer.make_column_selector object at 0x2c157f8b0&gt;),\n",
       "                                (&#x27;categorical&#x27;,\n",
       "                                 OneHotEncoder(handle_unknown=&#x27;infrequent_if_exist&#x27;,\n",
       "                                               min_frequency=0.05,\n",
       "                                               sparse=False),\n",
       "                                 &lt;sklearn.compose._column_transformer.make_column_selector object at 0x2c2186260&gt;)])</pre></div></div></div><div class=\"sk-parallel\"><div class=\"sk-parallel-item\"><div class=\"sk-item\"><div class=\"sk-label-container\"><div class=\"sk-label sk-toggleable\"><input class=\"sk-toggleable__control sk-hidden--visually\" id=\"sk-estimator-id-9762\" type=\"checkbox\" ><label for=\"sk-estimator-id-9762\" class=\"sk-toggleable__label sk-toggleable__label-arrow\">numerical</label><div class=\"sk-toggleable__content\"><pre>&lt;sklearn.compose._column_transformer.make_column_selector object at 0x2c157f8b0&gt;</pre></div></div></div><div class=\"sk-serial\"><div class=\"sk-item\"><div class=\"sk-serial\"><div class=\"sk-item\"><div class=\"sk-estimator sk-toggleable\"><input class=\"sk-toggleable__control sk-hidden--visually\" id=\"sk-estimator-id-9763\" type=\"checkbox\" ><label for=\"sk-estimator-id-9763\" class=\"sk-toggleable__label sk-toggleable__label-arrow\">SimpleImputer</label><div class=\"sk-toggleable__content\"><pre>SimpleImputer(add_indicator=True)</pre></div></div></div><div class=\"sk-item\"><div class=\"sk-estimator sk-toggleable\"><input class=\"sk-toggleable__control sk-hidden--visually\" id=\"sk-estimator-id-9764\" type=\"checkbox\" ><label for=\"sk-estimator-id-9764\" class=\"sk-toggleable__label sk-toggleable__label-arrow\">StandardScaler</label><div class=\"sk-toggleable__content\"><pre>StandardScaler()</pre></div></div></div></div></div></div></div></div><div class=\"sk-parallel-item\"><div class=\"sk-item\"><div class=\"sk-label-container\"><div class=\"sk-label sk-toggleable\"><input class=\"sk-toggleable__control sk-hidden--visually\" id=\"sk-estimator-id-9765\" type=\"checkbox\" ><label for=\"sk-estimator-id-9765\" class=\"sk-toggleable__label sk-toggleable__label-arrow\">categorical</label><div class=\"sk-toggleable__content\"><pre>&lt;sklearn.compose._column_transformer.make_column_selector object at 0x2c2186260&gt;</pre></div></div></div><div class=\"sk-serial\"><div class=\"sk-item\"><div class=\"sk-estimator sk-toggleable\"><input class=\"sk-toggleable__control sk-hidden--visually\" id=\"sk-estimator-id-9766\" type=\"checkbox\" ><label for=\"sk-estimator-id-9766\" class=\"sk-toggleable__label sk-toggleable__label-arrow\">OneHotEncoder</label><div class=\"sk-toggleable__content\"><pre>OneHotEncoder(handle_unknown=&#x27;infrequent_if_exist&#x27;, min_frequency=0.05,\n",
       "              sparse=False)</pre></div></div></div></div></div></div><div class=\"sk-parallel-item\"><div class=\"sk-item\"><div class=\"sk-label-container\"><div class=\"sk-label sk-toggleable\"><input class=\"sk-toggleable__control sk-hidden--visually\" id=\"sk-estimator-id-9767\" type=\"checkbox\" ><label for=\"sk-estimator-id-9767\" class=\"sk-toggleable__label sk-toggleable__label-arrow\">remainder</label><div class=\"sk-toggleable__content\"><pre>[]</pre></div></div></div><div class=\"sk-serial\"><div class=\"sk-item\"><div class=\"sk-estimator sk-toggleable\"><input class=\"sk-toggleable__control sk-hidden--visually\" id=\"sk-estimator-id-9768\" type=\"checkbox\" ><label for=\"sk-estimator-id-9768\" class=\"sk-toggleable__label sk-toggleable__label-arrow\">passthrough</label><div class=\"sk-toggleable__content\"><pre>passthrough</pre></div></div></div></div></div></div></div></div><div class=\"sk-item\"><div class=\"sk-estimator sk-toggleable\"><input class=\"sk-toggleable__control sk-hidden--visually\" id=\"sk-estimator-id-9769\" type=\"checkbox\" ><label for=\"sk-estimator-id-9769\" class=\"sk-toggleable__label sk-toggleable__label-arrow\">ADASYN</label><div class=\"sk-toggleable__content\"><pre>ADASYN()</pre></div></div></div><div class=\"sk-item\"><div class=\"sk-estimator sk-toggleable\"><input class=\"sk-toggleable__control sk-hidden--visually\" id=\"sk-estimator-id-9770\" type=\"checkbox\" ><label for=\"sk-estimator-id-9770\" class=\"sk-toggleable__label sk-toggleable__label-arrow\">XGBClassifier</label><div class=\"sk-toggleable__content\"><pre>XGBClassifier(base_score=0.5, booster=&#x27;gbtree&#x27;, callbacks=None,\n",
       "              colsample_bylevel=1, colsample_bynode=1,\n",
       "              colsample_bytree=0.21620329526101392, early_stopping_rounds=None,\n",
       "              enable_categorical=False, eval_metric=None, feature_types=None,\n",
       "              gamma=0, gpu_id=-1, grow_policy=&#x27;depthwise&#x27;, importance_type=None,\n",
       "              interaction_constraints=&#x27;&#x27;, learning_rate=0.050065586051749114,\n",
       "              max_bin=256, max_cat_threshold=64, max_cat_to_onehot=4,\n",
       "              max_delta_step=0, max_depth=10, max_leaves=0, min_child_weight=10,\n",
       "              missing=nan, monotone_constraints=&#x27;()&#x27;, n_estimaters=536,\n",
       "              n_estimators=100, n_jobs=4, num_parallel_tree=1, predictor=&#x27;auto&#x27;, ...)</pre></div></div></div></div></div></div></div>"
      ],
      "text/plain": [
       "Pipeline(steps=[('drop_column', DropFeatures(features_to_drop=['Vicuna'])),\n",
       "                ('preprocessor',\n",
       "                 ColumnTransformer(remainder='passthrough', sparse_threshold=0,\n",
       "                                   transformers=[('numerical',\n",
       "                                                  Pipeline(steps=[('imputer',\n",
       "                                                                   SimpleImputer(add_indicator=True)),\n",
       "                                                                  ('scaler',\n",
       "                                                                   StandardScaler())]),\n",
       "                                                  <sklearn.compose._column_transformer.make_column_selector object at 0x2c157f8b0>),\n",
       "                                                 (...\n",
       "                               feature_types=None, gamma=0, gpu_id=-1,\n",
       "                               grow_policy='depthwise', importance_type=None,\n",
       "                               interaction_constraints='',\n",
       "                               learning_rate=0.050065586051749114, max_bin=256,\n",
       "                               max_cat_threshold=64, max_cat_to_onehot=4,\n",
       "                               max_delta_step=0, max_depth=10, max_leaves=0,\n",
       "                               min_child_weight=10, missing=nan,\n",
       "                               monotone_constraints='()', n_estimaters=536,\n",
       "                               n_estimators=100, n_jobs=4, num_parallel_tree=1,\n",
       "                               predictor='auto', ...))])"
      ]
     },
     "execution_count": 298,
     "metadata": {},
     "output_type": "execute_result"
    }
   ],
   "source": [
    "set_config(display=\"diagram\")\n",
    "best_result[\"model\"]"
   ]
  }
 ],
 "metadata": {
  "kernelspec": {
   "display_name": "Python 3.10.8 64-bit",
   "language": "python",
   "name": "python3"
  },
  "language_info": {
   "codemirror_mode": {
    "name": "ipython",
    "version": 3
   },
   "file_extension": ".py",
   "mimetype": "text/x-python",
   "name": "python",
   "nbconvert_exporter": "python",
   "pygments_lexer": "ipython3",
   "version": "3.10.8"
  },
  "vscode": {
   "interpreter": {
    "hash": "b0fa6594d8f4cbf19f97940f81e996739fb7646882a419484c72d19e05852a7e"
   }
  }
 },
 "nbformat": 4,
 "nbformat_minor": 5
}
